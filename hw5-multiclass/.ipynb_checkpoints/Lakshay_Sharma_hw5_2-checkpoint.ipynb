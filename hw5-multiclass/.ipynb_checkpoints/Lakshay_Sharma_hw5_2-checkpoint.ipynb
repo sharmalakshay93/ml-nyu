{
 "cells": [
  {
   "cell_type": "markdown",
   "metadata": {},
   "source": [
    "# 4. [OPTIONAL] Another Formulation of Generalized Hinge Loss"
   ]
  },
  {
   "cell_type": "markdown",
   "metadata": {},
   "source": [
    "1.In lecture we defined the margin of the compatibility score\n",
    "function $h$ on the $i$th example $(x_{i},y_{i})$ for class $y$\n",
    "as\n",
    "$$\n",
    "m_{i,y}(h)=h(x_{i},y_{i})-h(x_{i},y),\n",
    "$$\n",
    " and the loss on an individual example $\\left(x_{i},y_{i}\\right)$\n",
    "to be:\n",
    "\n",
    "$$\n",
    "\\max_{y}\\left(\\left[\\Delta(y_{i},y)-m_{i,y}(h)\\right]_{+}\\right).\n",
    "$$\n",
    "Here we investigate whether this is just an instance of the generalized\n",
    "hinge loss $\\ell\\left(h,\\left(x,y\\right)\\right)$ defined above."
   ]
  },
  {
   "cell_type": "markdown",
   "metadata": {},
   "source": [
    "1.Show that $\\ell\\left(h,\\left(x_{i},y_{i}\\right)\\right)=\\max_{y'\\in\\mathcal Y}\\left[\\Delta\\left(y_{i},y'\\right)-m_{i,y'}(h)\\right]$.\n",
    "(In other words, it looks just like loss above, but without the positive\n",
    "part.)"
   ]
  },
  {
   "cell_type": "markdown",
   "metadata": {},
   "source": [
    "> <b>Solution</b>\n",
    "\n",
    "> We have seen (from 2.2.2) that the generalized hinge loss is \n",
    "\n",
    ">$$\n",
    "\\ell\\left(h,\\left(x_i,y_i\\right)\\right)=\\max_{y'\\in\\mathcal Y}\\left[\\Delta\\left(y_i,y'\\right)+h(x_i,y')-h(x_i,y_i)\\right]\n",
    "$$\n",
    "\n",
    "> Splitting the RHS:\n",
    "\n",
    ">$\\Rightarrow \\ell\\left(h,\\left(x_i,y_i\\right)\\right)=\\max_{y'\\in\\mathcal Y}\\left[\\Delta\\left(y_i,y'\\right)\\right]+\\max_{y'\\in \\mathcal Y} (\\left[h(x_i,y')-h(x_i,y_i)\\right])$\n",
    "\n",
    ">$\\Rightarrow \\ell\\left(h,\\left(x_i,y_i\\right)\\right)=\\max_{y'\\in\\mathcal Y}\\left[\\Delta\\left(y_i,y'\\right) - m_{i,y'}(h) \\right]$"
   ]
  },
  {
   "cell_type": "markdown",
   "metadata": {
    "collapsed": true
   },
   "source": [
    "2.Suppose $\\Delta\\left(y,y'\\right)\\ge0$ for all $y,y'\\in\\mathcal Y$. Show\n",
    "that for any example $\\left(x_{i},y_{i}\\right)$ and any score function\n",
    "$h$, the multiclass hinge loss we gave in lecture and the generalized\n",
    "hinge loss presented above are equivalent, in the sense that\n",
    "$$\n",
    "\\max_{y\\in\\mathcal Y}\\left(\\left[\\Delta(y_{i},y)-m_{i,y}(h)\\right]_{+}\\right)=\\max_{y\\in\\mathcal Y}\\left(\\Delta(y_{i},y)-m_{i,y}(h)\\right).\n",
    "$$\n",
    "(Hint: This is easy by piecing together other results we have already\n",
    "attained regarding the relationship between $\\ell$ and $\\Delta$.)"
   ]
  },
  {
   "cell_type": "markdown",
   "metadata": {},
   "source": [
    "> <b>Solution</b>\n",
    "\n",
    "> We have previous proved the $\\ell(h,(x_i,y_i))$ gives an upper bound on $\\Delta(y_i,f(x_i))$, i.e.\n",
    "\n",
    "> $\\Delta(y_i,f(x_i)) \\leq \\ell(h,(x_i,y_i))$. Also, $\\Delta(y_i, f(x_i)) \\geq 0$. Thus, we have:\n",
    "\n",
    "> $0 \\leq \\Delta(y_i,f(x_i)) \\leq \\ell(h,(x_i,y_i)) = \\max_{y'\\in\\mathcal Y}\\left[\\Delta\\left(y_i,y'\\right) - m_{i,y'}(h) \\right]$\n",
    "\n",
    "> $\\Rightarrow 0 \\leq \\max_{y'\\in\\mathcal Y}\\left[\\Delta\\left(y_i,y'\\right) - m_{i,y'}(h) \\right]$\n",
    "\n",
    "> Since the RHS has to be non-negative, we can say that, the above expression is the same as \n",
    "\n",
    "> $\\max_{y'\\in\\mathcal Y}\\left(\\left[\\Delta(y_{i},y')-m_{i,y}(h)\\right]_{+}\\right)$"
   ]
  },
  {
   "cell_type": "markdown",
   "metadata": {},
   "source": [
    "3.In the context of the generalized hinge loss, $\\Delta(y,y')$ is like\n",
    "the ''target margin'' between the score for true class $y$ and\n",
    "the score for class $y'$. Suppose that our prediction function $f$\n",
    "gets the correct class on $x_{i}$. That is, $f(x_{i})=argmax_{y'\\in\\mathcal Y}h(x_{i},y')=y_{i}$.\n",
    "Furthermore, assume that all of our target margins are reached or\n",
    "exceeded. That is\n",
    "$$\n",
    "m_{i,y}(h)=h(x_{i},y_{i})-h(x_{i},y)\\ge\\Delta(y_{i},y),\n",
    "$$\n",
    "for all $y\\neq y_{i}$. It seems like in this case, we should have\n",
    "$0$ loss. This is almost the case. Show that $\\ell\\left(h,(x_{i},y_{i})\\right)=0$\n",
    "if we assume that $\\Delta\\left(y,y\\right)=0$ for all $y\\in\\mathcal Y$."
   ]
  },
  {
   "cell_type": "markdown",
   "metadata": {},
   "source": [
    "> <b>Solution</b>\n",
    "\n",
    "> Taking the expression for $\\ell$,\n",
    "\n",
    "> $\\ell\\left(h,\\left(x_i,y_i\\right)\\right)=\\max_{y'\\in\\mathcal Y}\\left[\\Delta\\left(y_i,y'\\right)+h(x_i,y')-h(x_i,y_i)\\right]$\n",
    "\n",
    "> $\\ell\\left(h,\\left(x_i,y_i\\right)\\right)= max \\begin{cases}\n",
    "\\Delta(y_i, y_i) + h(x_i, y_i) - h(x_i, y_i) &\\text{when $y'=y_i$} \\\\\n",
    "\\Delta(y_i, y') - m_{i,y'}(h) &\\text{when $y' \\neq y_i$}\n",
    "\\end{cases}$\n",
    "\n",
    "> $\\ell\\left(h,\\left(x_i,y_i\\right)\\right)= max \\begin{cases}\n",
    "0 &\\text{when $y'=y_i$} \\\\\n",
    "(0, -\\infty) &\\text{when $y' \\neq y_i$}\n",
    "\\end{cases}$\n",
    "\n",
    "> $\\ell\\left(h,\\left(x_i,y_i\\right)\\right)=0$\n"
   ]
  },
  {
   "cell_type": "markdown",
   "metadata": {},
   "source": [
    "# 5. [OPTIONAL] Hinge Loss is a Special Case of Generalized Hinge Loss"
   ]
  },
  {
   "cell_type": "markdown",
   "metadata": {},
   "source": [
    "Let $\\mathcal Y=\\left\\{ -1,1\\right\\} $. Let $\\Delta(y,\\hat{y})=1(y\\neq\\hat{y}).$\n",
    "If $g(x)$ is the score function in our binary classification setting,\n",
    "then define our compatibility function as \n",
    "\\begin{eqnarray*}\n",
    "h(x,1) & = & g(x)/2\\\\\n",
    "h(x,-1) & = & -g(x)/2.\n",
    "\\end{eqnarray*}\n",
    "Show that for this choice of $h$, the multiclass hinge loss reduces\n",
    "to hinge loss: \n",
    "$$\n",
    "\\ell\\left(h,\\left(x,y\\right)\\right)=\\max_{y'\\in\\mathcal Y}\\left[\\Delta\\left(y,y')\\right)+h(x,y')-h(x,y)\\right]=\\max\\left\\{ 0,1-yg(x)\\right\\} \n",
    "$$"
   ]
  },
  {
   "cell_type": "markdown",
   "metadata": {},
   "source": [
    "> <b>Solution</b>\n",
    "\n",
    "> Taking the expression for $\\ell$,\n",
    "\n",
    "> $\\ell\\left(h,\\left(x,y\\right)\\right)=\\max_{y'\\in\\mathcal Y}\\left[\\Delta\\left(y,y')\\right)+h(x,y')-h(x,y)\\right]$\n",
    "\n",
    "> $ = max \\begin{cases}\n",
    "\\Delta(y, y) + h(x,y) - h(x,y) &\\text{when $y'=y$} \\\\\n",
    "\\Delta(y, -y) + h(x,-y) - h(x,y) &\\text{when $y' \\neq y$}\n",
    "\\end{cases}$\n",
    "\n",
    "> $ = max \\begin{cases}\n",
    "0 &\\text{when $y'=y$} \\\\\n",
    "1 + \\frac{1}{2} \\begin{cases}\n",
    "{-g(x)-(g(x))} & \\text{when $y=1$} \\\\\n",
    "{g(x)-(-g(x))} & \\text{when $y = -1$}\\\\ \n",
    "\\end{cases}\n",
    "&\\text{when $y' \\neq y$}\n",
    "\\end{cases}$\n",
    "\n",
    "> $ = max \\begin{cases}\n",
    "0 &\\text{when $y'=y$} \\\\\n",
    "1 + \\begin{cases}\n",
    "-g(x) & \\text{when $y=1$} \\\\\n",
    "{g(x)} & \\text{when $y = -1$}\\\\ \n",
    "\\end{cases}\n",
    "&\\text{when $y' \\neq y$}\n",
    "\\end{cases}$\n",
    "\n",
    "> $ = max \\begin{cases}\n",
    "0 &\\text{when $y'=y$} \\\\\n",
    "1 - yg(x) & \\text{when $y' \\neq y$} \n",
    "\\end{cases}\n",
    "$"
   ]
  }
 ],
 "metadata": {
  "anaconda-cloud": {},
  "kernelspec": {
   "display_name": "Python [default]",
   "language": "python",
   "name": "python3"
  },
  "language_info": {
   "codemirror_mode": {
    "name": "ipython",
    "version": 3
   },
   "file_extension": ".py",
   "mimetype": "text/x-python",
   "name": "python",
   "nbconvert_exporter": "python",
   "pygments_lexer": "ipython3",
   "version": "3.5.2"
  }
 },
 "nbformat": 4,
 "nbformat_minor": 1
}
